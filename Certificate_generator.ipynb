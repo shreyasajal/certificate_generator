{
  "nbformat": 4,
  "nbformat_minor": 0,
  "metadata": {
    "colab": {
      "name": "Certificate generator.ipynb",
      "provenance": [],
      "collapsed_sections": [],
      "mount_file_id": "1EVB3QT53h4SElpoqxK1anBS-4hMMzPv3",
      "authorship_tag": "ABX9TyOV8E2AhqAsr0MxVYJN+ZMK",
      "include_colab_link": true
    },
    "kernelspec": {
      "name": "python3",
      "display_name": "Python 3"
    }
  },
  "cells": [
    {
      "cell_type": "markdown",
      "metadata": {
        "id": "view-in-github",
        "colab_type": "text"
      },
      "source": [
        "<a href=\"https://colab.research.google.com/github/shreyasajal/certificate_generator/blob/main/Certificate_generator.ipynb\" target=\"_parent\"><img src=\"https://colab.research.google.com/assets/colab-badge.svg\" alt=\"Open In Colab\"/></a>"
      ]
    },
    {
      "cell_type": "markdown",
      "metadata": {
        "id": "PktNSgbeCkre"
      },
      "source": [
        "# **CERTIFICATE GENERATOR FROM ANY TEMPLATE**"
      ]
    },
    {
      "cell_type": "code",
      "metadata": {
        "id": "JmY654zIA8AS",
        "outputId": "e0752492-6516-434c-ffe0-49fbfac93da9",
        "colab": {
          "base_uri": "https://localhost:8080/",
          "height": 51
        }
      },
      "source": [
        "pip install opencv-python\n"
      ],
      "execution_count": null,
      "outputs": [
        {
          "output_type": "stream",
          "text": [
            "Requirement already satisfied: opencv-python in /usr/local/lib/python3.6/dist-packages (4.1.2.30)\n",
            "Requirement already satisfied: numpy>=1.11.3 in /usr/local/lib/python3.6/dist-packages (from opencv-python) (1.18.5)\n"
          ],
          "name": "stdout"
        }
      ]
    },
    {
      "cell_type": "code",
      "metadata": {
        "id": "M7Dz4DaWBJdv"
      },
      "source": [
        "import cv2"
      ],
      "execution_count": null,
      "outputs": []
    },
    {
      "cell_type": "code",
      "metadata": {
        "id": "KfCoCaZHBMyU",
        "outputId": "fdf74514-33e5-4f3d-807a-3f752b5b58f6",
        "colab": {
          "base_uri": "https://localhost:8080/",
          "height": 35
        }
      },
      "source": [
        "cv2.__version__"
      ],
      "execution_count": null,
      "outputs": [
        {
          "output_type": "execute_result",
          "data": {
            "application/vnd.google.colaboratory.intrinsic+json": {
              "type": "string"
            },
            "text/plain": [
              "'4.1.2'"
            ]
          },
          "metadata": {
            "tags": []
          },
          "execution_count": 3
        }
      ]
    },
    {
      "cell_type": "markdown",
      "metadata": {
        "id": "NgPsKqmwBQhL"
      },
      "source": [
        "ADJUSTING THE POSITION OF DATE ON THE CERTIFICATE TEMPLATE:\n"
      ]
    },
    {
      "cell_type": "code",
      "metadata": {
        "id": "N1AW71gYtM5g"
      },
      "source": [
        "import cv2 as cv \n",
        "import openpyxl \n",
        "\n",
        "template_path = '/content/CERTI.png'\n",
        "  \n",
        "\n",
        "\n",
        "  \n",
        "# Output Paths \n",
        "output_path = '/content/drive/My Drive/Certis'\n",
        "   \n",
        "\n",
        "\n",
        "   \n",
        "\n",
        "coordinate_y_adjustment =130\n",
        "coordinate_x_adjustment =1670\n",
        "   \n",
        " \n",
        "\n",
        "   \n",
        "date='23      09        2020'\n",
        "\n",
        "img = cv.imread(template_path) \n",
        "   \n",
        "font = ImageFont.truetype(\"/content/Montserrat-Medium.ttf\", 50)           \n",
        "   \n",
        "\n",
        "\n",
        "\n",
        "img_pil = Image.fromarray(img)\n",
        "draw = ImageDraw.Draw(img_pil)\n",
        "       \n",
        "    \n",
        "width, height = draw.textsize(date, font=font)\n",
        "text_x = int( coordinate_x_adjustment )\n",
        "text_y = int((img.shape[0] + height) / 2 + coordinate_y_adjustment )\n",
        "\n",
        "    \n",
        " \n",
        "    \n",
        "draw.text((text_x,text_y),date, font = font,fill = (0, 0, 0, 255))\n",
        "    \n",
        "img = np.array(img_pil)\n",
        "      \n",
        "certi_path=output_path +'template1'+'.png'\n",
        "       \n",
        "cv.imwrite(certi_path,img)     "
      ],
      "execution_count": null,
      "outputs": []
    },
    {
      "cell_type": "code",
      "metadata": {
        "id": "tyCdBNL4PNIg"
      },
      "source": [
        "import cv2 as cv \n",
        "import openpyxl \n",
        "from PIL import ImageFont, ImageDraw, Image \n",
        "import numpy as np\n",
        "\n",
        "\n",
        "template_path = '/content/drive/My Drive/Certistemplate1.png'\n",
        "\n",
        "details_path = 'pp.xlsx'\n",
        "  \n",
        "# Output Paths \n",
        "output_path = '/content/drive/My Drive/Certis'\n",
        "   \n",
        "\n",
        "   \n",
        "\n",
        "coordinate_y_adjustment =87\n",
        "coordinate_x_adjustment =200\n",
        "   \n",
        " \n",
        "obj = openpyxl.load_workbook(details_path) \n",
        "sheet = obj.active \n",
        "   \n"
      ],
      "execution_count": null,
      "outputs": []
    },
    {
      "cell_type": "markdown",
      "metadata": {
        "id": "gBassvNXB87x"
      },
      "source": [
        "ADJUSTING THE POSITION OF NAMES FROM SPREADSHEET ON THE CERTIFICATE FOR 141 SAMPLES:"
      ]
    },
    {
      "cell_type": "code",
      "metadata": {
        "id": "VLi9oQ7yBwci"
      },
      "source": [
        "\n",
        "for i in range(1,142): \n",
        "       \n",
        "  \n",
        "    get_name = sheet.cell(row = i ,column = 1) \n",
        "    certi_name = get_name.value \n",
        "\n",
        "    img = cv.imread(template_path) \n",
        "   \n",
        "         \n",
        "    font = ImageFont.truetype(\"/content/Montserrat-Medium.ttf\", 80)\n",
        "\n",
        "    img_pil = Image.fromarray(img)\n",
        "    draw = ImageDraw.Draw(img_pil)\n",
        "       \n",
        "    \n",
        "    width, height = draw.textsize(certi_name, font=font)\n",
        "    \n",
        "    text_x = int( coordinate_x_adjustment )\n",
        "    text_y = int((img.shape[0] + height) / 2 - coordinate_y_adjustment )\n",
        "    \n",
        "    draw.text((text_x,text_y),certi_name, font = font,fill = (0, 0, 0, 255))\n",
        "    \n",
        "    filename=\"%s.png\" % certi_name\n",
        "    certi_path =\"{}/{}\".format(output_path, filename) \n",
        "    img = np.array(img_pil)\n",
        "    # Save the certificate                       \n",
        "    cv.imwrite(certi_path,img)     "
      ],
      "execution_count": null,
      "outputs": []
    }
  ]
}